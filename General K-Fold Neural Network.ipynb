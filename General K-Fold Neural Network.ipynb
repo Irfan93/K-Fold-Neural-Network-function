{
 "cells": [
  {
   "cell_type": "code",
   "execution_count": 29,
   "metadata": {},
   "outputs": [],
   "source": [
    "# Written by: Mohamat Eirban Ali\n",
    "# A general function that uses K-Fold validation for Neural Network modelling for either classification or regression problem\n",
    "# The function is also demonstrated with the Red Wine and Abalone dataset"
   ]
  },
  {
   "cell_type": "code",
   "execution_count": 30,
   "metadata": {},
   "outputs": [
    {
     "name": "stdout",
     "output_type": "stream",
     "text": [
      "      fixed acidity  volatile acidity  citric acid  residual sugar  chlorides  \\\n",
      "0               7.4             0.700         0.00             1.9      0.076   \n",
      "1               7.8             0.880         0.00             2.6      0.098   \n",
      "2               7.8             0.760         0.04             2.3      0.092   \n",
      "3              11.2             0.280         0.56             1.9      0.075   \n",
      "4               7.4             0.700         0.00             1.9      0.076   \n",
      "...             ...               ...          ...             ...        ...   \n",
      "1594            6.2             0.600         0.08             2.0      0.090   \n",
      "1595            5.9             0.550         0.10             2.2      0.062   \n",
      "1596            6.3             0.510         0.13             2.3      0.076   \n",
      "1597            5.9             0.645         0.12             2.0      0.075   \n",
      "1598            6.0             0.310         0.47             3.6      0.067   \n",
      "\n",
      "      free sulfur dioxide  total sulfur dioxide  density    pH  sulphates  \\\n",
      "0                    11.0                  34.0  0.99780  3.51       0.56   \n",
      "1                    25.0                  67.0  0.99680  3.20       0.68   \n",
      "2                    15.0                  54.0  0.99700  3.26       0.65   \n",
      "3                    17.0                  60.0  0.99800  3.16       0.58   \n",
      "4                    11.0                  34.0  0.99780  3.51       0.56   \n",
      "...                   ...                   ...      ...   ...        ...   \n",
      "1594                 32.0                  44.0  0.99490  3.45       0.58   \n",
      "1595                 39.0                  51.0  0.99512  3.52       0.76   \n",
      "1596                 29.0                  40.0  0.99574  3.42       0.75   \n",
      "1597                 32.0                  44.0  0.99547  3.57       0.71   \n",
      "1598                 18.0                  42.0  0.99549  3.39       0.66   \n",
      "\n",
      "      alcohol  quality  \n",
      "0         9.4        5  \n",
      "1         9.8        5  \n",
      "2         9.8        5  \n",
      "3         9.8        6  \n",
      "4         9.4        5  \n",
      "...       ...      ...  \n",
      "1594     10.5        5  \n",
      "1595     11.2        6  \n",
      "1596     11.0        6  \n",
      "1597     10.2        5  \n",
      "1598     11.0        6  \n",
      "\n",
      "[1599 rows x 12 columns]\n"
     ]
    }
   ],
   "source": [
    "\n",
    "import pandas as pd\n",
    "\n",
    "#Read the dataset\n",
    "df = pd.read_csv(\"Downloads/winequality-red.csv\",sep = ';')\n",
    "output_directory = \"Downloads\"\n",
    "print(df)"
   ]
  },
  {
   "cell_type": "code",
   "execution_count": 31,
   "metadata": {},
   "outputs": [],
   "source": [
    "#Pre- processing\n",
    "import numpy as np\n",
    "from sklearn import preprocessing\n",
    "import pandas as pd\n",
    "import os\n",
    "from sklearn import metrics\n",
    "from sklearn.model_selection import StratifiedKFold\n",
    "from tensorflow.keras.models import Sequential\n",
    "from tensorflow.keras.layers import Dense, Activation, Dropout\n",
    "from tensorflow.keras import regularizers\n",
    "from tensorflow.keras.layers import BatchNormalization\n",
    "from tensorflow.keras.callbacks import EarlyStopping\n",
    "from tensorflow.keras.utils import to_categorical\n",
    "from sklearn.metrics import confusion_matrix\n",
    "from sklearn.model_selection import KFold\n",
    "\n",
    "y = df.quality\n",
    "#y_binary = to_categorical(y)\n",
    "X = df.drop('quality', axis=1)\n",
    "\n",
    "X_scaled = preprocessing.scale(X)\n",
    "\n",
    "dummies1 = pd.get_dummies(df.quality) # Classification\n",
    "products = dummies1.columns"
   ]
  },
  {
   "cell_type": "code",
   "execution_count": 32,
   "metadata": {},
   "outputs": [],
   "source": [
    "# General Function Cross Validation\n",
    "def crossVal(X, Y, K, prob):\n",
    "    \"\"\"\n",
    "    For given X and Y, run k cross-validation on them\n",
    "\n",
    "    Arguments:\n",
    "    X -- Features [predictors]\n",
    "    Y -- Target Output\n",
    "    K -- Number of Folds\n",
    "    prob -- \"classification\" or \"regression\" problem\n",
    "\n",
    "    Return:\n",
    "    Y_Output -- Dataframe containing actual and predicted output values\n",
    "    \"\"\"\n",
    "    \n",
    "    if prob == \"classification\":\n",
    "        # Cross-validate\n",
    "        kf = StratifiedKFold(K, shuffle=True, random_state=42) # Use for StratifiedKFold classification\n",
    "    \n",
    "    \n",
    "    \n",
    "    \n",
    "        oos_y = []\n",
    "        oos_pred = []\n",
    "        fold = 0\n",
    "    \n",
    "        for train, test in kf.split(X,Y): # Must specify y StratifiedKFold for \n",
    "            fold+=1\n",
    "            print(f\"Fold #{fold}\")\n",
    "        \n",
    "            x_train = X[train]\n",
    "        \n",
    "            x_test = X[test]\n",
    "        \n",
    "        \n",
    "            dummies = pd.get_dummies(Y[train])\n",
    "            products = dummies.columns\n",
    "            y_train = dummies.values\n",
    "\n",
    "            dummies = pd.get_dummies(Y[test])\n",
    "            products = dummies.columns\n",
    "            y_test = dummies.values\n",
    "\n",
    "            model = Sequential()\n",
    "            model.add(Dense(150, input_dim=X.shape[1], activation='relu', activity_regularizer=regularizers.l1(1e-4))) # Hidden 1\n",
    "            model.add(BatchNormalization())\n",
    "            model.add(Dropout(0.25))\n",
    "            model.add(Dense(75, activation='relu', activity_regularizer=regularizers.l2(1e-4))) # Hidden 2\n",
    "            model.add(BatchNormalization())\n",
    "            model.add(Dropout(0.2))\n",
    "            model.add(Dense(25, activation='relu', activity_regularizer=regularizers.l1(1e-4))) # Hidden 3\n",
    "            model.add(Dense(y_train.shape[1],activation='softmax')) # Output\n",
    "            model.compile(loss='categorical_crossentropy', optimizer='adam')\n",
    "\n",
    "            monitor = EarlyStopping(monitor='val_loss', min_delta=1e-6, patience=40, verbose=1, mode='auto',\n",
    "            restore_best_weights=True)\n",
    "            model.fit(x_train,y_train,validation_data=(x_test,y_test),callbacks=[monitor],verbose=0,epochs=150)\n",
    "\n",
    "            pred = model.predict(x_test)\n",
    "\n",
    "            oos_y.append(y_test)\n",
    "            pred = np.argmax(pred,axis=1) # raw probabilities to chosen class (highest probability)\n",
    "            oos_pred.append(pred)  \n",
    "\n",
    "            # Measure this fold's accuracy\n",
    "            y_compare = np.argmax(y_test,axis=1) # For accuracy calculation\n",
    "            score = metrics.accuracy_score(y_compare, pred)\n",
    "            print(f\"Fold score (accuracy): {score}\")\n",
    "\n",
    "            #Save weights for each fold\n",
    "            model.save(os.path.join(output_directory, 'fold_{}_modelClass.hdf5'.format(fold)))\n",
    "        \n",
    "        # Build the oos prediction list and calculate the error.\n",
    "        oos_y = np.concatenate(oos_y)\n",
    "        oos_pred = np.concatenate(oos_pred)\n",
    "        oos_y = np.argmax(oos_y,axis=1) # For accuracy calculation.\n",
    "        \n",
    "        score = metrics.accuracy_score(oos_y, oos_pred)\n",
    "        print(f\"Final score (accuracy): {score}\")  \n",
    "        \n",
    "    elif prob == \"regression\":\n",
    "    \n",
    "        # Cross-Validate\n",
    "        kf = KFold(K, shuffle=True, random_state=42) # Use for KFold classification\n",
    "\n",
    "        oos_y = []\n",
    "        oos_pred = []\n",
    "    \n",
    "        fold = 0\n",
    "        for train, test in kf.split(X): \n",
    "            fold+=1\n",
    "            print(f\"Fold #{fold}\")\n",
    "        \n",
    "            x_train = X[train]\n",
    "            y_train = Y[train]\n",
    "            x_test = X[test]\n",
    "            y_test = Y[test]\n",
    "\n",
    "            model = Sequential()\n",
    "            model.add(Dense(150, input_dim=X.shape[1], activation='relu', activity_regularizer=regularizers.l2(1e-4))) # Hidden 1\n",
    "            model.add(BatchNormalization())\n",
    "            model.add(Dropout(0.25))\n",
    "            model.add(Dense(75, activation='relu', activity_regularizer=regularizers.l2(1e-4))) # Hidden 2\n",
    "            model.add(BatchNormalization())\n",
    "            model.add(Dropout(0.2))\n",
    "            model.add(Dense(25, activation='relu', activity_regularizer=regularizers.l1(1e-4))) # Hidden 3\n",
    "            model.add(Dense(1)) # Output\n",
    "            model.compile(loss='mean_squared_error', optimizer='adam')\n",
    "\n",
    "            monitor = EarlyStopping(monitor='val_loss', min_delta=1e-4, patience=40, verbose=1, mode='auto',\n",
    "            restore_best_weights=True)\n",
    "            model.fit(x_train,y_train,validation_data=(x_test,y_test),callbacks=[monitor],verbose=0,epochs=150)\n",
    "\n",
    "            pred = model.predict(x_test)\n",
    "            oos_y.append(y_test)\n",
    "            oos_pred.append(pred)\n",
    "            \n",
    "            # Measure this fold's RMSE\n",
    "            score = np.sqrt(metrics.mean_squared_error(pred,y_test))\n",
    "            print(f\"Fold score (RMSE): {score}\")\n",
    "\n",
    "           \n",
    "\n",
    "            #Save weights for each fold\n",
    "            model.save(os.path.join(output_directory, 'fold_{}_modelReg.hdf5'.format(fold)))\n",
    "        \n",
    "        # Build the oos prediction list and calculate the error.\n",
    "        oos_y = np.concatenate(oos_y)\n",
    "        oos_pred = np.concatenate(oos_pred)\n",
    "        score = np.sqrt(metrics.mean_squared_error(oos_pred,oos_y))\n",
    "        print(f\"Final, out of sample score (RMSE): {score}\")\n",
    "        \n",
    "    return oos_y, oos_pred\n"
   ]
  },
  {
   "cell_type": "code",
   "execution_count": 33,
   "metadata": {},
   "outputs": [
    {
     "name": "stdout",
     "output_type": "stream",
     "text": [
      "Fold #1\n",
      "Restoring model weights from the end of the best epoch.\n",
      "Epoch 00052: early stopping\n",
      "Fold score (accuracy): 0.61875\n",
      "Fold #2\n",
      "Restoring model weights from the end of the best epoch.\n",
      "Epoch 00065: early stopping\n",
      "Fold score (accuracy): 0.64375\n",
      "Fold #3\n",
      "Restoring model weights from the end of the best epoch.\n",
      "Epoch 00049: early stopping\n",
      "Fold score (accuracy): 0.628125\n",
      "Fold #4\n",
      "Restoring model weights from the end of the best epoch.\n",
      "Epoch 00050: early stopping\n",
      "Fold score (accuracy): 0.634375\n",
      "Fold #5\n",
      "Restoring model weights from the end of the best epoch.\n",
      "Epoch 00073: early stopping\n",
      "Fold score (accuracy): 0.5924764890282131\n",
      "Final score (accuracy): 0.6235146966854284\n"
     ]
    }
   ],
   "source": [
    "true, pred = crossVal(X_scaled, y, 5, \"classification\")\n",
    "\n"
   ]
  },
  {
   "cell_type": "code",
   "execution_count": 34,
   "metadata": {},
   "outputs": [],
   "source": [
    "%matplotlib inline\n",
    "import matplotlib.pyplot as plt\n",
    "\n",
    "# Plot a confusion matrix.\n",
    "# cm is the confusion matrix, names are the names of the classes.\n",
    "def plot_confusion_matrix(cm, names, title='Confusion matrix', cmap=plt.cm.Blues):\n",
    "    plt.imshow(cm, interpolation='nearest', cmap=cmap)\n",
    "    plt.title(title)\n",
    "    plt.colorbar()\n",
    "    tick_marks = np.arange(len(names))\n",
    "    plt.xticks(tick_marks, names, rotation=45)\n",
    "    plt.yticks(tick_marks, names)\n",
    "    plt.tight_layout()\n",
    "    plt.ylabel('True label')\n",
    "    plt.xlabel('Predicted label')"
   ]
  },
  {
   "cell_type": "code",
   "execution_count": 35,
   "metadata": {},
   "outputs": [
    {
     "name": "stdout",
     "output_type": "stream",
     "text": [
      "Confusion matrix, without normalization\n",
      "[[  0   1   8   1   0   0]\n",
      " [  0   0  39  13   1   0]\n",
      " [  0   3 522 149   7   0]\n",
      " [  0   1 203 400  34   0]\n",
      " [  0   0  10 113  75   1]\n",
      " [  0   0   0  10   8   0]]\n",
      "Normalized confusion matrix\n",
      "[[0.   0.1  0.8  0.1  0.   0.  ]\n",
      " [0.   0.   0.74 0.25 0.02 0.  ]\n",
      " [0.   0.   0.77 0.22 0.01 0.  ]\n",
      " [0.   0.   0.32 0.63 0.05 0.  ]\n",
      " [0.   0.   0.05 0.57 0.38 0.01]\n",
      " [0.   0.   0.   0.56 0.44 0.  ]]\n"
     ]
    },
    {
     "data": {
      "image/png": "[encoded data removed]",
      "text/plain": [
       "<Figure size 432x288 with 2 Axes>"
      ]
     },
     "metadata": {
      "needs_background": "light"
     },
     "output_type": "display_data"
    },
    {
     "data": {
      "image/png": "[encoded data removed]",
      "text/plain": [
       "<Figure size 432x288 with 2 Axes>"
      ]
     },
     "metadata": {
      "needs_background": "light"
     },
     "output_type": "display_data"
    }
   ],
   "source": [
    "\n",
    "# Compute confusion matrix\n",
    "cm = confusion_matrix(true, pred)\n",
    "np.set_printoptions(precision=2)\n",
    "print('Confusion matrix, without normalization')\n",
    "print(cm)\n",
    "plt.figure()\n",
    "plot_confusion_matrix(cm, products)\n",
    "\n",
    "# Normalize the confusion matrix by row (i.e by the number of samples\n",
    "# in each class)\n",
    "cm_normalized = cm.astype('float') / cm.sum(axis=1)[:, np.newaxis]\n",
    "print('Normalized confusion matrix')\n",
    "print(cm_normalized)\n",
    "plt.figure()\n",
    "plot_confusion_matrix(cm_normalized, products, title='Normalized confusion matrix')\n",
    "\n",
    "plt.show()"
   ]
  },
  {
   "cell_type": "code",
   "execution_count": 36,
   "metadata": {},
   "outputs": [],
   "source": [
    "from sklearn.preprocessing import MinMaxScaler\n",
    "abalone_data = pd.read_csv(\"Downloads/abalone.data.csv\")\n",
    "\n",
    "abalone_data['Sex'] = abalone_data['Sex'].map({'M': 0, 'F': 1, 'I':2})\n",
    "abalone_data_scaled = preprocessing.scale(abalone_data)\n",
    "Y = abalone_data_scaled[:,8]\n",
    "X = abalone_data_scaled[:,:-1]"
   ]
  },
  {
   "cell_type": "code",
   "execution_count": 37,
   "metadata": {},
   "outputs": [
    {
     "name": "stdout",
     "output_type": "stream",
     "text": [
      "Fold #1\n",
      "Restoring model weights from the end of the best epoch.\n",
      "Epoch 00104: early stopping\n",
      "Fold score (RMSE): 0.6471474119531415\n",
      "Fold #2\n",
      "Fold score (RMSE): 0.621342025013423\n",
      "Fold #3\n",
      "Restoring model weights from the end of the best epoch.\n",
      "Epoch 00081: early stopping\n",
      "Fold score (RMSE): 0.6809619272812147\n",
      "Fold #4\n",
      "Restoring model weights from the end of the best epoch.\n",
      "Epoch 00113: early stopping\n",
      "Fold score (RMSE): 0.6652717923217943\n",
      "Fold #5\n",
      "Restoring model weights from the end of the best epoch.\n",
      "Epoch 00136: early stopping\n",
      "Fold score (RMSE): 0.5799330420399639\n",
      "Final, out of sample score (RMSE): 0.639916683754419\n"
     ]
    }
   ],
   "source": [
    "trueab, predab = crossVal(X, Y, 5, \"regression\")"
   ]
  },
  {
   "cell_type": "code",
   "execution_count": 38,
   "metadata": {},
   "outputs": [],
   "source": [
    "# Regression chart.\n",
    "def chart_regression(pred, y, sort=True):\n",
    "    t = pd.DataFrame({'pred': pred, 'y': y.flatten()})\n",
    "    if sort:\n",
    "        t.sort_values(by=['y'], inplace=True)\n",
    "    plt.plot(t['y'].tolist(), label='expected')\n",
    "    plt.plot(t['pred'].tolist(), label='prediction')\n",
    "    plt.ylabel('output')\n",
    "    plt.legend()\n",
    "    plt.show()"
   ]
  },
  {
   "cell_type": "code",
   "execution_count": 39,
   "metadata": {},
   "outputs": [
    {
     "data": {
      "image/png": "[encoded data removed]",
      "text/plain": [
       "<Figure size 432x288 with 1 Axes>"
      ]
     },
     "metadata": {
      "needs_background": "light"
     },
     "output_type": "display_data"
    }
   ],
   "source": [
    "# Plot the chart\n",
    "chart_regression(predab.flatten(),trueab)"
   ]
  },
  {
   "cell_type": "code",
   "execution_count": null,
   "metadata": {},
   "outputs": [],
   "source": []
  }
 ],
 "metadata": {
  "kernelspec": {
   "display_name": "Python 3",
   "language": "python",
   "name": "python3"
  },
  "language_info": {
   "codemirror_mode": {
    "name": "ipython",
    "version": 3
   },
   "file_extension": ".py",
   "mimetype": "text/x-python",
   "name": "python",
   "nbconvert_exporter": "python",
   "pygments_lexer": "ipython3",
   "version": "3.7.6"
  }
 },
 "nbformat": 4,
 "nbformat_minor": 2
}
